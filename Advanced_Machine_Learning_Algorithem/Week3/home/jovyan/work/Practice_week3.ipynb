{
 "cells": [
  {
   "cell_type": "code",
   "execution_count": 1,
   "id": "9d74747c",
   "metadata": {},
   "outputs": [],
   "source": [
    "from sklearn.linear_model import LinearRegression\n",
    "# StandardScaler is used to normalized the data (Scaling of the data)\n",
    "# PolynomialFeatures is used to find out all the possible model for the learning algorithem\n",
    "from sklearn.preprocessing import StandardScaler, PolynomialFeatures\n",
    "# train test split is used to divide the data into training and test set.\n",
    "from sklearn.model_selection import train_test_split\n",
    "from sklearn.metrics import mean_squared_error\n",
    "import numpy as np\n",
    "import matplotlib.pyplot as plt"
   ]
  },
  {
   "cell_type": "code",
   "execution_count": 2,
   "id": "f0a449de",
   "metadata": {},
   "outputs": [],
   "source": [
    "data = np.loadtxt('./data/data_w3_ex1.csv', delimiter=',')"
   ]
  },
  {
   "cell_type": "code",
   "execution_count": 3,
   "id": "8b5827b0",
   "metadata": {},
   "outputs": [],
   "source": [
    "x_train = data[:,0]\n",
    "y_train = data[:,1]"
   ]
  },
  {
   "cell_type": "code",
   "execution_count": 4,
   "id": "a7cea6b5",
   "metadata": {},
   "outputs": [],
   "source": [
    "x_train = x_train.reshape(50,1)\n",
    "y_train = y_train.reshape(50,1)\n"
   ]
  },
  {
   "cell_type": "code",
   "execution_count": 5,
   "id": "84c93484",
   "metadata": {},
   "outputs": [
    {
     "name": "stdout",
     "output_type": "stream",
     "text": [
      "Dim of X:2\n",
      "Dim of y:2\n"
     ]
    }
   ],
   "source": [
    "print(f'Dim of X:{x_train.ndim}')\n",
    "print(f'Dim of y:{y_train.ndim}')"
   ]
  },
  {
   "cell_type": "code",
   "execution_count": 6,
   "id": "f38a67e0",
   "metadata": {},
   "outputs": [
    {
     "data": {
      "image/png": "[encoded data removed]",
      "text/plain": [
       "<Figure size 432x288 with 1 Axes>"
      ]
     },
     "metadata": {
      "needs_background": "light"
     },
     "output_type": "display_data"
    }
   ],
   "source": [
    "plt.plot(x_train,y_train, '+', markersize = 5, color = 'red')\n",
    "plt.title(\"Training X vs Training Y \")\n",
    "plt.show()"
   ]
  },
  {
   "cell_type": "code",
   "execution_count": 7,
   "id": "67755a0d",
   "metadata": {},
   "outputs": [],
   "source": [
    "x_train, X_, y_train, y_ = train_test_split(x_train,y_train,test_size=0.40, random_state=1)\n",
    "x_cv, x_test, y_cv, y_test = train_test_split(X_, y_, test_size=0.50, random_state=1 )"
   ]
  },
  {
   "cell_type": "code",
   "execution_count": 8,
   "id": "369bb1fe",
   "metadata": {},
   "outputs": [
    {
     "data": {
      "image/png": "[encoded data removed]",
      "text/plain": [
       "<Figure size 432x288 with 1 Axes>"
      ]
     },
     "metadata": {
      "needs_background": "light"
     },
     "output_type": "display_data"
    }
   ],
   "source": [
    "plt.plot(x_train,y_train, '+',x_cv,y_cv,'+',x_test,y_test,'+')\n",
    "plt.show()"
   ]
  },
  {
   "cell_type": "code",
   "execution_count": 9,
   "id": "42721086",
   "metadata": {},
   "outputs": [],
   "source": [
    "# Feature Scaling\n",
    "scalar_linear = StandardScaler()\n",
    "x_train_scaled = scalar_linear.fit_transform(x_train)"
   ]
  },
  {
   "cell_type": "code",
   "execution_count": 10,
   "id": "b6ecae91",
   "metadata": {},
   "outputs": [
    {
     "data": {
      "text/plain": [
       "LinearRegression()"
      ]
     },
     "execution_count": 10,
     "metadata": {},
     "output_type": "execute_result"
    }
   ],
   "source": [
    "# trained the model\n",
    "model = LinearRegression()\n",
    "model.fit(x_train_scaled,y_train)"
   ]
  },
  {
   "cell_type": "code",
   "execution_count": 11,
   "id": "0a465dbf",
   "metadata": {},
   "outputs": [
    {
     "name": "stdout",
     "output_type": "stream",
     "text": [
      "The mean squared value of the test set : 406.19374192533127\n"
     ]
    }
   ],
   "source": [
    "# Evaluating the model, calculate the mean squared error of the test set and cross validation set\n",
    "\n",
    "yhat = model.predict(x_train_scaled)\n",
    "print(f'The mean squared value of the test set : {mean_squared_error(y_train,yhat)/2}')\n"
   ]
  },
  {
   "cell_type": "code",
   "execution_count": 12,
   "id": "bed07a54",
   "metadata": {},
   "outputs": [
    {
     "name": "stdout",
     "output_type": "stream",
     "text": [
      "Mean squared value of cross validation : 551.7789026952216\n"
     ]
    }
   ],
   "source": [
    "# Now we need to check the Corss validation. we need to scale th cross validation x set by calling StandardScalar just \n",
    "# tranform function\n",
    "x_cs_scaled = scalar_linear.transform(x_cv)\n",
    "yhat_cs = model.predict(x_cs_scaled)\n",
    "print(f'Mean squared value of cross validation : {mean_squared_error(y_cv,yhat_cs)/2}')"
   ]
  },
  {
   "cell_type": "markdown",
   "id": "ee59a95f",
   "metadata": {},
   "source": [
    "# Adding New features"
   ]
  },
  {
   "cell_type": "code",
   "execution_count": 16,
   "id": "0c85e3ef",
   "metadata": {},
   "outputs": [
    {
     "name": "stdout",
     "output_type": "stream",
     "text": [
      "MSV of Degree2 :98.22321866805031\n"
     ]
    }
   ],
   "source": [
    "ploy  = PolynomialFeatures(degree=2, include_bias=False)\n",
    "# compute the number of features\n",
    "x_train_ploy = ploy.fit_transform(x_train)\n",
    "# Scaling\n",
    "scaling_ploy = StandardScaler()\n",
    "x_scaled_poly = scaling_ploy.fit_transform(x_train_ploy)\n",
    "# Creatng another model\n",
    "ploy_model = LinearRegression()\n",
    "ploy_model.fit(x_scaled_poly,y_train)\n",
    "# MSV meauring\n",
    "yhat_ploy = ploy_model.predict(x_scaled_poly)\n",
    "print(f'MSV of Degree2 :{mean_squared_error(y_train,yhat_ploy)}')"
   ]
  },
  {
   "cell_type": "code",
   "execution_count": 17,
   "id": "e256184b",
   "metadata": {},
   "outputs": [
    {
     "name": "stdout",
     "output_type": "stream",
     "text": [
      "MSV of Degree2 cv data :175.39682422223822\n"
     ]
    }
   ],
   "source": [
    "# Now cv data\n",
    "# frist adding features\n",
    "x_cv_ploy = ploy.transform(x_cv)\n",
    "# Scaling\n",
    "scaled_x_cv = scaling_ploy.transform(x_cv_ploy)\n",
    "# Model Creating\n",
    "# cv_poly = LinearRegression()\n",
    "# cv_poly.fit(scaled_x_cv, y_cv)\n",
    "# Predicting\n",
    "yhat_poly_cv = ploy_model.predict(scaled_x_cv)\n",
    "print(f'MSV of Degree2 cv data :{mean_squared_error(y_cv,yhat_poly_cv)}')\n"
   ]
  },
  {
   "cell_type": "code",
   "execution_count": 27,
   "id": "7c70f96b",
   "metadata": {},
   "outputs": [
    {
     "name": "stdout",
     "output_type": "stream",
     "text": [
      "1\n",
      "2\n",
      "3\n",
      "4\n",
      "5\n",
      "6\n",
      "7\n",
      "8\n",
      "9\n",
      "10\n",
      "MSV_value [406.19374192533127, 49.111609334025154, 47.61632235298251, 47.14646644263599, 47.142574526300784, 41.38387792556905, 39.249610627753945, 38.98136379635805, 37.97170881951426, 37.036468980280645]\n",
      "MSV_value [3696.781174313862, 3287.497520172002, 3286.52319800959, 3287.736330552725, 3288.609270392849, 3281.7519540444837, 3577.2627313658836, 3860.452099145508, 27311.638265846996, 303306.9368156289]\n"
     ]
    }
   ],
   "source": [
    "msv_xtrian = []\n",
    "msv_cvtrain = []\n",
    "scalars = []\n",
    "models = []\n",
    "for degree in range(1,11):\n",
    "    print(degree)\n",
    "    # Add New Feature\n",
    "    poly = PolynomialFeatures(degree, include_bias=False)\n",
    "    poly_x_train = poly.fit_transform(x_train)\n",
    "    \n",
    "    # Scaling x_trian\n",
    "    scale = StandardScaler()\n",
    "    scaled_x_train = scale.fit_transform(poly_x_train)\n",
    "    scalars.append(scale)\n",
    "    # Model intiate and apply fit\n",
    "    model = LinearRegression()\n",
    "    model.fit(scaled_x_train, y_train) \n",
    "    models.append(model)\n",
    "    # Feed the Model\n",
    "    yhat = model.predict(scaled_x_train)\n",
    "    \n",
    "    # Find yhat and msv\n",
    "    mean_x_train = mean_squared_error(y_train, yhat)/2\n",
    "    msv_xtrian.append(mean_x_train)\n",
    "    \n",
    "    # Add new feature for Cross validation\n",
    "    poly = PolynomialFeatures(degree, include_bias=False)\n",
    "    poly_cv_train = poly.fit_transform(x_cv)\n",
    "    \n",
    "    # Scaling the data via privoius data\n",
    "    scaled_cv_train = scale.fit_transform(poly_cv_train)\n",
    "    \n",
    "    # feed it to the xtrain model \n",
    "    yhat = model.predict(scaled_cv_train)\n",
    "    # cal msv\n",
    "    mean_cv_train = mean_squared_error(y_cv, yhat) / 2\n",
    "    msv_cvtrain.append(mean_cv_train)\n",
    "    \n",
    "print(f'MSV_value {msv_xtrian}')\n",
    "print(f'MSV_value {msv_cvtrain}')"
   ]
  },
  {
   "cell_type": "code",
   "execution_count": 28,
   "id": "c7274764",
   "metadata": {},
   "outputs": [
    {
     "name": "stdout",
     "output_type": "stream",
     "text": [
      "the lowest degree is 6\n"
     ]
    }
   ],
   "source": [
    "degree = np.argmin(msv_cvtrain) + 1\n",
    "print(f'the lowest degree is {degree}')"
   ]
  },
  {
   "cell_type": "code",
   "execution_count": 31,
   "id": "fcfbdc45",
   "metadata": {},
   "outputs": [
    {
     "name": "stdout",
     "output_type": "stream",
     "text": [
      "Training MSE: 41.38\n",
      "Cross Validation MSE: 3281.75\n",
      "Test MSE: 2946.08\n"
     ]
    }
   ],
   "source": [
    "# Adding Features\n",
    "poly = PolynomialFeatures(degree, include_bias=False)\n",
    "poly_xtest = poly.fit_transform(x_test)\n",
    "\n",
    "# Scaling\n",
    "scaled_xtest = scalars[degree -1].transform(poly_xtest)\n",
    "\n",
    "# Model\n",
    "yhat = models[degree - 1].predict(scaled_xtest) \n",
    "test_msv = mean_squared_error(y_test, yhat) / 2\n",
    "\n",
    "print(f\"Training MSE: {msv_xtrian[degree-1]:.2f}\")\n",
    "print(f\"Cross Validation MSE: {msv_cvtrain[degree-1]:.2f}\")\n",
    "print(f\"Test MSE: {test_msv:.2f}\")"
   ]
  },
  {
   "cell_type": "code",
   "execution_count": null,
   "id": "bec3153a",
   "metadata": {},
   "outputs": [],
   "source": []
  }
 ],
 "metadata": {
  "kernelspec": {
   "display_name": "Python 3 (ipykernel)",
   "language": "python",
   "name": "python3"
  },
  "language_info": {
   "codemirror_mode": {
    "name": "ipython",
    "version": 3
   },
   "file_extension": ".py",
   "mimetype": "text/x-python",
   "name": "python",
   "nbconvert_exporter": "python",
   "pygments_lexer": "ipython3",
   "version": "3.9.12"
  }
 },
 "nbformat": 4,
 "nbformat_minor": 5
}
