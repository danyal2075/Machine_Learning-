{
 "cells": [
  {
   "cell_type": "code",
   "execution_count": 3,
   "id": "ffbcd773",
   "metadata": {},
   "outputs": [],
   "source": [
    "from sklearn.linear_model import LinearRegression\n",
    "# StandardScaler is used to normalized the data (Scaling of the data)\n",
    "# PolynomialFeatures is used to find out all the possible model for the learning algorithem\n",
    "from sklearn.preprocessing import StandardScaler, PolynomialFeatures\n",
    "# train test split is used to divide the data into training and test set.\n",
    "from sklearn.model_selection import train_test_split\n",
    "from sklearn.metrics import mean_squared_error\n",
    "import numpy as np"
   ]
  },
  {
   "cell_type": "code",
   "execution_count": 4,
   "id": "ba492cb2",
   "metadata": {},
   "outputs": [],
   "source": [
    "data = np.loadtxt('./data/data_w3_ex1.csv', delimiter=',')"
   ]
  },
  {
   "cell_type": "code",
   "execution_count": 7,
   "id": "c06f708d",
   "metadata": {},
   "outputs": [],
   "source": [
    "x_train = data[:,0]\n",
    "y_train = data[:,1]"
   ]
  },
  {
   "cell_type": "code",
   "execution_count": 9,
   "id": "ee75f4d0",
   "metadata": {},
   "outputs": [
    {
     "data": {
      "text/plain": [
       "1"
      ]
     },
     "execution_count": 9,
     "metadata": {},
     "output_type": "execute_result"
    }
   ],
   "source": [
    "x_train.reshape\n",
    "x_train.ndim\n"
   ]
  },
  {
   "cell_type": "code",
   "execution_count": null,
   "id": "38fdd068",
   "metadata": {},
   "outputs": [],
   "source": []
  }
 ],
 "metadata": {
  "kernelspec": {
   "display_name": "Python 3 (ipykernel)",
   "language": "python",
   "name": "python3"
  },
  "language_info": {
   "codemirror_mode": {
    "name": "ipython",
    "version": 3
   },
   "file_extension": ".py",
   "mimetype": "text/x-python",
   "name": "python",
   "nbconvert_exporter": "python",
   "pygments_lexer": "ipython3",
   "version": "3.9.12"
  }
 },
 "nbformat": 4,
 "nbformat_minor": 5
}
