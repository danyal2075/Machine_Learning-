{
 "cells": [
  {
   "cell_type": "code",
   "execution_count": null,
   "id": "62cddc47",
   "metadata": {},
   "outputs": [],
   "source": [
    "# we need to convert the cate of the data. means converting coloums heading into numeric values because some algorithem \n",
    "# cannot read it "
   ]
  },
  {
   "cell_type": "code",
   "execution_count": 3,
   "id": "30e33092",
   "metadata": {},
   "outputs": [],
   "source": [
    "# we need to import labelencoder lib\n",
    "import numpy as np\n",
    "import pandas as pd\n",
    "from sklearn.preprocessing import LabelEncoder"
   ]
  },
  {
   "cell_type": "code",
   "execution_count": null,
   "id": "96176f92",
   "metadata": {},
   "outputs": [],
   "source": []
  }
 ],
 "metadata": {
  "kernelspec": {
   "display_name": "Python 3 (ipykernel)",
   "language": "python",
   "name": "python3"
  },
  "language_info": {
   "codemirror_mode": {
    "name": "ipython",
    "version": 3
   },
   "file_extension": ".py",
   "mimetype": "text/x-python",
   "name": "python",
   "nbconvert_exporter": "python",
   "pygments_lexer": "ipython3",
   "version": "3.9.12"
  }
 },
 "nbformat": 4,
 "nbformat_minor": 5
}
